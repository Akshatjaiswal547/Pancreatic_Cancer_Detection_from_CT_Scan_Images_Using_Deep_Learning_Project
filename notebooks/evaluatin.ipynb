{
 "cells": [
  {
   "cell_type": "code",
   "execution_count": 3,
   "metadata": {},
   "outputs": [
    {
     "name": "stderr",
     "output_type": "stream",
     "text": [
      "WARNING:absl:Compiled the loaded model, but the compiled metrics have yet to be built. `model.compile_metrics` will be empty until you train or evaluate the model.\n"
     ]
    },
    {
     "name": "stdout",
     "output_type": "stream",
     "text": [
      "✅ Model Loaded Successfully!\n"
     ]
    },
    {
     "ename": "error",
     "evalue": "OpenCV(4.11.0) D:\\a\\opencv-python\\opencv-python\\opencv\\modules\\imgproc\\src\\resize.cpp:4208: error: (-215:Assertion failed) !ssize.empty() in function 'cv::resize'\n",
     "output_type": "error",
     "traceback": [
      "\u001b[1;31m---------------------------------------------------------------------------\u001b[0m",
      "\u001b[1;31merror\u001b[0m                                     Traceback (most recent call last)",
      "Cell \u001b[1;32mIn[3], line 25\u001b[0m\n\u001b[0;32m     22\u001b[0m \u001b[38;5;28mprint\u001b[39m(\u001b[38;5;124m\"\u001b[39m\u001b[38;5;124m✅ Model Loaded Successfully!\u001b[39m\u001b[38;5;124m\"\u001b[39m)\n\u001b[0;32m     24\u001b[0m \u001b[38;5;66;03m# ✅ Load test dataset\u001b[39;00m\n\u001b[1;32m---> 25\u001b[0m images, labels \u001b[38;5;241m=\u001b[39m \u001b[43mload_data\u001b[49m\u001b[43m(\u001b[49m\u001b[38;5;124;43m\"\u001b[39;49m\u001b[38;5;124;43mC:/Users/aksha/OneDrive/Desktop/Cancer_Project_8th_Sem/data\u001b[39;49m\u001b[38;5;124;43m\"\u001b[39;49m\u001b[43m)\u001b[49m\n\u001b[0;32m     26\u001b[0m _, _, X_test, _, _, y_test \u001b[38;5;241m=\u001b[39m split_data(images, labels)\n\u001b[0;32m     28\u001b[0m \u001b[38;5;66;03m# ✅ Evaluate the model\u001b[39;00m\n",
      "File \u001b[1;32mC:\\Users/aksha/OneDrive/Desktop/Cancer_Project_8th_Sem\\utils\\data_loader.py:14\u001b[0m, in \u001b[0;36mload_data\u001b[1;34m(data_dir, img_size)\u001b[0m\n\u001b[0;32m     12\u001b[0m img_path \u001b[38;5;241m=\u001b[39m os\u001b[38;5;241m.\u001b[39mpath\u001b[38;5;241m.\u001b[39mjoin(category_path, file)\n\u001b[0;32m     13\u001b[0m img \u001b[38;5;241m=\u001b[39m cv2\u001b[38;5;241m.\u001b[39mimread(img_path)\n\u001b[1;32m---> 14\u001b[0m img \u001b[38;5;241m=\u001b[39m \u001b[43mcv2\u001b[49m\u001b[38;5;241;43m.\u001b[39;49m\u001b[43mresize\u001b[49m\u001b[43m(\u001b[49m\u001b[43mimg\u001b[49m\u001b[43m,\u001b[49m\u001b[43m \u001b[49m\u001b[43mimg_size\u001b[49m\u001b[43m)\u001b[49m\n\u001b[0;32m     15\u001b[0m images\u001b[38;5;241m.\u001b[39mappend(img)\n\u001b[0;32m     16\u001b[0m labels\u001b[38;5;241m.\u001b[39mappend(label)\n",
      "\u001b[1;31merror\u001b[0m: OpenCV(4.11.0) D:\\a\\opencv-python\\opencv-python\\opencv\\modules\\imgproc\\src\\resize.cpp:4208: error: (-215:Assertion failed) !ssize.empty() in function 'cv::resize'\n"
     ]
    }
   ],
   "source": [
    "import os\n",
    "import sys\n",
    "import numpy as np\n",
    "import matplotlib.pyplot as plt\n",
    "from tensorflow.keras.models import load_model\n",
    "\n",
    "# ✅ Ensure Python finds the utils module\n",
    "sys.path.append(\"C:/Users/aksha/OneDrive/Desktop/Cancer_Project_8th_Sem\")\n",
    "\n",
    "# ✅ Now import utils\n",
    "from utils.data_loader import load_data, split_data\n",
    "\n",
    "# ✅ Set the correct model path\n",
    "model_path = os.path.join(\"C:/Users/aksha/OneDrive/Desktop/Cancer_Project_8th_Sem/models\", \"final_model.h5\")\n",
    "\n",
    "# ✅ Check if model file exists\n",
    "if not os.path.exists(model_path):\n",
    "    raise FileNotFoundError(f\"Model file not found at {model_path}. Please check the path and retrain the model if needed.\")\n",
    "\n",
    "# ✅ Load the trained model\n",
    "model = load_model(model_path)\n",
    "print(\"✅ Model Loaded Successfully!\")\n",
    "\n",
    "# ✅ Load test dataset\n",
    "images, labels = load_data(\"C:/Users/aksha/OneDrive/Desktop/Cancer_Project_8th_Sem/data\")\n",
    "_, _, X_test, _, _, y_test = split_data(images, labels)\n",
    "\n",
    "# ✅ Evaluate the model\n",
    "loss, accuracy = model.evaluate(X_test, y_test)\n",
    "print(f\"✅ Model Accuracy: {accuracy:.2%}\")\n",
    "\n",
    "# ✅ Make predictions\n",
    "y_pred = model.predict(X_test)\n",
    "y_pred_classes = np.argmax(y_pred, axis=1)\n",
    "y_true = np.argmax(y_test, axis=1)\n",
    "\n",
    "# ✅ Plot some sample predictions\n",
    "fig, axes = plt.subplots(3, 3, figsize=(10, 10))\n",
    "fig.suptitle(\"Sample Predictions\", fontsize=14)\n",
    "\n",
    "for i, ax in enumerate(axes.flat):\n",
    "    ax.imshow(X_test[i])\n",
    "    ax.set_title(f\"True: {y_true[i]}, Pred: {y_pred_classes[i]}\")\n",
    "    ax.axis(\"off\")\n",
    "\n",
    "plt.show()"
   ]
  }
 ],
 "metadata": {
  "kernelspec": {
   "display_name": "Python 3",
   "language": "python",
   "name": "python3"
  },
  "language_info": {
   "codemirror_mode": {
    "name": "ipython",
    "version": 3
   },
   "file_extension": ".py",
   "mimetype": "text/x-python",
   "name": "python",
   "nbconvert_exporter": "python",
   "pygments_lexer": "ipython3",
   "version": "3.9.13"
  }
 },
 "nbformat": 4,
 "nbformat_minor": 2
}
